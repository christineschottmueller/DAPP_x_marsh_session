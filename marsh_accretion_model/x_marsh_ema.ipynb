{
 "cells": [
  {
   "cell_type": "code",
   "execution_count": 1,
   "id": "ddd97f6a",
   "metadata": {},
   "outputs": [
    {
     "name": "stderr",
     "output_type": "stream",
     "text": [
      "C:\\Users\\cschott\\AppData\\Roaming\\Python\\Python311\\site-packages\\ema_workbench\\em_framework\\evaluators.py:58: UserWarning: ipyparallel not installed - IpyparalleEvaluator not available\n",
      "  warnings.warn(\"ipyparallel not installed - IpyparalleEvaluator not available\")\n"
     ]
    }
   ],
   "source": [
    "from ema_workbench import (Model, CategoricalParameter, ScalarOutcome, MultiprocessingEvaluator)\n",
    "from ema_workbench import perform_experiments\n",
    "from ema_workbench.em_framework.samplers import FullFactorialSampler                               \n",
    "from ema_workbench import ema_logging, save_results, load_results"
   ]
  },
  {
   "cell_type": "code",
   "execution_count": 2,
   "id": "18bbc81a",
   "metadata": {},
   "outputs": [],
   "source": [
    "# Import wrapper function from marsh_accretion_problem.py\n",
    "from x_marsh import x_marsh_function"
   ]
  },
  {
   "cell_type": "code",
   "execution_count": 3,
   "id": "4a4695f2",
   "metadata": {
    "scrolled": false
   },
   "outputs": [
    {
     "name": "stderr",
     "output_type": "stream",
     "text": [
      "  3%|▉                                  | 1211/46656 [03:03<1:45:10,  7.20it/s]"
     ]
    },
    {
     "ename": "KeyboardInterrupt",
     "evalue": "",
     "output_type": "error",
     "traceback": [
      "\u001b[1;31m---------------------------------------------------------------------------\u001b[0m",
      "\u001b[1;31mKeyboardInterrupt\u001b[0m                         Traceback (most recent call last)",
      "Cell \u001b[1;32mIn[3], line 31\u001b[0m\n\u001b[0;32m     29\u001b[0m \u001b[38;5;66;03m# Run experiments with sampled scenarios\u001b[39;00m\n\u001b[0;32m     30\u001b[0m \u001b[38;5;28;01mwith\u001b[39;00m MultiprocessingEvaluator(model, n_processes\u001b[38;5;241m=\u001b[39m\u001b[38;5;241m-\u001b[39m\u001b[38;5;241m1\u001b[39m) \u001b[38;5;28;01mas\u001b[39;00m evaluator:\n\u001b[1;32m---> 31\u001b[0m     experiments, outcomes \u001b[38;5;241m=\u001b[39m perform_experiments(model,  scenarios\u001b[38;5;241m=\u001b[39m\u001b[38;5;241m7776\u001b[39m\u001b[38;5;241m*\u001b[39m\u001b[38;5;241m6\u001b[39m, uncertainty_sampling\u001b[38;5;241m=\u001b[39mFullFactorialSampler())\n",
      "File \u001b[1;32m~\\AppData\\Roaming\\Python\\Python311\\site-packages\\ema_workbench\\em_framework\\evaluators.py:568\u001b[0m, in \u001b[0;36mperform_experiments\u001b[1;34m(models, scenarios, policies, evaluator, reporting_interval, reporting_frequency, uncertainty_union, lever_union, outcome_union, uncertainty_sampling, lever_sampling, callback, return_callback, combine, log_progress)\u001b[0m\n\u001b[0;32m    565\u001b[0m \u001b[38;5;28;01mif\u001b[39;00m \u001b[38;5;129;01mnot\u001b[39;00m evaluator:\n\u001b[0;32m    566\u001b[0m     evaluator \u001b[38;5;241m=\u001b[39m SequentialEvaluator(models)\n\u001b[1;32m--> 568\u001b[0m evaluator\u001b[38;5;241m.\u001b[39mevaluate_experiments(scenarios, policies, callback, combine\u001b[38;5;241m=\u001b[39mcombine)\n\u001b[0;32m    570\u001b[0m \u001b[38;5;28;01mif\u001b[39;00m callback\u001b[38;5;241m.\u001b[39mi \u001b[38;5;241m!=\u001b[39m nr_of_exp:\n\u001b[0;32m    571\u001b[0m     \u001b[38;5;28;01mraise\u001b[39;00m EMAError(\n\u001b[0;32m    572\u001b[0m         (\n\u001b[0;32m    573\u001b[0m             \u001b[38;5;124m\"\u001b[39m\u001b[38;5;124msome fatal error has occurred while \u001b[39m\u001b[38;5;124m\"\u001b[39m\n\u001b[1;32m   (...)\u001b[0m\n\u001b[0;32m    576\u001b[0m         )\u001b[38;5;241m.\u001b[39mformat(nr_of_exp, callback\u001b[38;5;241m.\u001b[39mi)\n\u001b[0;32m    577\u001b[0m     )\n",
      "File \u001b[1;32m~\\AppData\\Roaming\\Python\\Python311\\site-packages\\ema_workbench\\em_framework\\evaluators.py:311\u001b[0m, in \u001b[0;36mSequentialEvaluator.evaluate_experiments\u001b[1;34m(self, scenarios, policies, callback, combine)\u001b[0m\n\u001b[0;32m    308\u001b[0m runner \u001b[38;5;241m=\u001b[39m ExperimentRunner(models)\n\u001b[0;32m    310\u001b[0m \u001b[38;5;28;01mfor\u001b[39;00m experiment \u001b[38;5;129;01min\u001b[39;00m ex_gen:\n\u001b[1;32m--> 311\u001b[0m     outcomes \u001b[38;5;241m=\u001b[39m runner\u001b[38;5;241m.\u001b[39mrun_experiment(experiment)\n\u001b[0;32m    312\u001b[0m     callback(experiment, outcomes)\n\u001b[0;32m    313\u001b[0m runner\u001b[38;5;241m.\u001b[39mcleanup()\n",
      "File \u001b[1;32m~\\AppData\\Roaming\\Python\\Python311\\site-packages\\ema_workbench\\util\\ema_logging.py:152\u001b[0m, in \u001b[0;36mmethod_logger.<locals>.real_decorator.<locals>.wrapper\u001b[1;34m(*args, **kwargs)\u001b[0m\n\u001b[0;32m    147\u001b[0m \u001b[38;5;129m@wraps\u001b[39m(func)\n\u001b[0;32m    148\u001b[0m \u001b[38;5;28;01mdef\u001b[39;00m \u001b[38;5;21mwrapper\u001b[39m(\u001b[38;5;241m*\u001b[39margs, \u001b[38;5;241m*\u001b[39m\u001b[38;5;241m*\u001b[39mkwargs):\n\u001b[0;32m    149\u001b[0m     \u001b[38;5;66;03m# hack, because log is applied to methods, we can get\u001b[39;00m\n\u001b[0;32m    150\u001b[0m     \u001b[38;5;66;03m# object instance as first arguments in args\u001b[39;00m\n\u001b[0;32m    151\u001b[0m     logger\u001b[38;5;241m.\u001b[39mdebug(\u001b[38;5;124mf\u001b[39m\u001b[38;5;124m\"\u001b[39m\u001b[38;5;124mcalling \u001b[39m\u001b[38;5;132;01m{\u001b[39;00mfunc\u001b[38;5;241m.\u001b[39m\u001b[38;5;18m__name__\u001b[39m\u001b[38;5;132;01m}\u001b[39;00m\u001b[38;5;124m on \u001b[39m\u001b[38;5;132;01m{\u001b[39;00mclassname\u001b[38;5;132;01m}\u001b[39;00m\u001b[38;5;124m\"\u001b[39m)\n\u001b[1;32m--> 152\u001b[0m     res \u001b[38;5;241m=\u001b[39m func(\u001b[38;5;241m*\u001b[39margs, \u001b[38;5;241m*\u001b[39m\u001b[38;5;241m*\u001b[39mkwargs)\n\u001b[0;32m    153\u001b[0m     logger\u001b[38;5;241m.\u001b[39mdebug(\u001b[38;5;124mf\u001b[39m\u001b[38;5;124m\"\u001b[39m\u001b[38;5;124mcompleted calling \u001b[39m\u001b[38;5;132;01m{\u001b[39;00mfunc\u001b[38;5;241m.\u001b[39m\u001b[38;5;18m__name__\u001b[39m\u001b[38;5;132;01m}\u001b[39;00m\u001b[38;5;124m on \u001b[39m\u001b[38;5;132;01m{\u001b[39;00mclassname\u001b[38;5;132;01m}\u001b[39;00m\u001b[38;5;124m\"\u001b[39m)\n\u001b[0;32m    154\u001b[0m     \u001b[38;5;28;01mreturn\u001b[39;00m res\n",
      "File \u001b[1;32m~\\AppData\\Roaming\\Python\\Python311\\site-packages\\ema_workbench\\em_framework\\experiment_runner.py:91\u001b[0m, in \u001b[0;36mExperimentRunner.run_experiment\u001b[1;34m(self, experiment)\u001b[0m\n\u001b[0;32m     84\u001b[0m _logger\u001b[38;5;241m.\u001b[39mdebug(\n\u001b[0;32m     85\u001b[0m     \u001b[38;5;28mself\u001b[39m\u001b[38;5;241m.\u001b[39mlog_message\u001b[38;5;241m.\u001b[39mformat(\n\u001b[0;32m     86\u001b[0m         scenario_id\u001b[38;5;241m=\u001b[39mscenario_id, policy_name\u001b[38;5;241m=\u001b[39mpolicy_name, model_name\u001b[38;5;241m=\u001b[39mmodel_name\n\u001b[0;32m     87\u001b[0m     )\n\u001b[0;32m     88\u001b[0m )\n\u001b[0;32m     90\u001b[0m \u001b[38;5;28;01mtry\u001b[39;00m:\n\u001b[1;32m---> 91\u001b[0m     model\u001b[38;5;241m.\u001b[39mrun_model(scenario, policy)\n\u001b[0;32m     92\u001b[0m \u001b[38;5;28;01mexcept\u001b[39;00m CaseError \u001b[38;5;28;01mas\u001b[39;00m e:\n\u001b[0;32m     93\u001b[0m     _logger\u001b[38;5;241m.\u001b[39mwarning(\u001b[38;5;28mstr\u001b[39m(e))\n",
      "File \u001b[1;32m~\\AppData\\Roaming\\Python\\Python311\\site-packages\\ema_workbench\\util\\ema_logging.py:152\u001b[0m, in \u001b[0;36mmethod_logger.<locals>.real_decorator.<locals>.wrapper\u001b[1;34m(*args, **kwargs)\u001b[0m\n\u001b[0;32m    147\u001b[0m \u001b[38;5;129m@wraps\u001b[39m(func)\n\u001b[0;32m    148\u001b[0m \u001b[38;5;28;01mdef\u001b[39;00m \u001b[38;5;21mwrapper\u001b[39m(\u001b[38;5;241m*\u001b[39margs, \u001b[38;5;241m*\u001b[39m\u001b[38;5;241m*\u001b[39mkwargs):\n\u001b[0;32m    149\u001b[0m     \u001b[38;5;66;03m# hack, because log is applied to methods, we can get\u001b[39;00m\n\u001b[0;32m    150\u001b[0m     \u001b[38;5;66;03m# object instance as first arguments in args\u001b[39;00m\n\u001b[0;32m    151\u001b[0m     logger\u001b[38;5;241m.\u001b[39mdebug(\u001b[38;5;124mf\u001b[39m\u001b[38;5;124m\"\u001b[39m\u001b[38;5;124mcalling \u001b[39m\u001b[38;5;132;01m{\u001b[39;00mfunc\u001b[38;5;241m.\u001b[39m\u001b[38;5;18m__name__\u001b[39m\u001b[38;5;132;01m}\u001b[39;00m\u001b[38;5;124m on \u001b[39m\u001b[38;5;132;01m{\u001b[39;00mclassname\u001b[38;5;132;01m}\u001b[39;00m\u001b[38;5;124m\"\u001b[39m)\n\u001b[1;32m--> 152\u001b[0m     res \u001b[38;5;241m=\u001b[39m func(\u001b[38;5;241m*\u001b[39margs, \u001b[38;5;241m*\u001b[39m\u001b[38;5;241m*\u001b[39mkwargs)\n\u001b[0;32m    153\u001b[0m     logger\u001b[38;5;241m.\u001b[39mdebug(\u001b[38;5;124mf\u001b[39m\u001b[38;5;124m\"\u001b[39m\u001b[38;5;124mcompleted calling \u001b[39m\u001b[38;5;132;01m{\u001b[39;00mfunc\u001b[38;5;241m.\u001b[39m\u001b[38;5;18m__name__\u001b[39m\u001b[38;5;132;01m}\u001b[39;00m\u001b[38;5;124m on \u001b[39m\u001b[38;5;132;01m{\u001b[39;00mclassname\u001b[38;5;132;01m}\u001b[39;00m\u001b[38;5;124m\"\u001b[39m)\n\u001b[0;32m    154\u001b[0m     \u001b[38;5;28;01mreturn\u001b[39;00m res\n",
      "File \u001b[1;32m~\\AppData\\Roaming\\Python\\Python311\\site-packages\\ema_workbench\\em_framework\\model.py:339\u001b[0m, in \u001b[0;36mSingleReplication.run_model\u001b[1;34m(self, scenario, policy)\u001b[0m\n\u001b[0;32m    335\u001b[0m constants \u001b[38;5;241m=\u001b[39m {c\u001b[38;5;241m.\u001b[39mname: c\u001b[38;5;241m.\u001b[39mvalue \u001b[38;5;28;01mfor\u001b[39;00m c \u001b[38;5;129;01min\u001b[39;00m \u001b[38;5;28mself\u001b[39m\u001b[38;5;241m.\u001b[39mconstants}\n\u001b[0;32m    337\u001b[0m experiment \u001b[38;5;241m=\u001b[39m ExperimentReplication(scenario, \u001b[38;5;28mself\u001b[39m\u001b[38;5;241m.\u001b[39mpolicy, constants)\n\u001b[1;32m--> 339\u001b[0m outputs \u001b[38;5;241m=\u001b[39m \u001b[38;5;28mself\u001b[39m\u001b[38;5;241m.\u001b[39mrun_experiment(experiment)\n\u001b[0;32m    341\u001b[0m \u001b[38;5;28mself\u001b[39m\u001b[38;5;241m.\u001b[39moutcomes_output \u001b[38;5;241m=\u001b[39m outputs\n\u001b[0;32m    342\u001b[0m \u001b[38;5;28mself\u001b[39m\u001b[38;5;241m.\u001b[39mconstraints_output \u001b[38;5;241m=\u001b[39m (experiment, \u001b[38;5;28mself\u001b[39m\u001b[38;5;241m.\u001b[39moutcomes_output)\n",
      "File \u001b[1;32m~\\AppData\\Roaming\\Python\\Python311\\site-packages\\ema_workbench\\util\\ema_logging.py:152\u001b[0m, in \u001b[0;36mmethod_logger.<locals>.real_decorator.<locals>.wrapper\u001b[1;34m(*args, **kwargs)\u001b[0m\n\u001b[0;32m    147\u001b[0m \u001b[38;5;129m@wraps\u001b[39m(func)\n\u001b[0;32m    148\u001b[0m \u001b[38;5;28;01mdef\u001b[39;00m \u001b[38;5;21mwrapper\u001b[39m(\u001b[38;5;241m*\u001b[39margs, \u001b[38;5;241m*\u001b[39m\u001b[38;5;241m*\u001b[39mkwargs):\n\u001b[0;32m    149\u001b[0m     \u001b[38;5;66;03m# hack, because log is applied to methods, we can get\u001b[39;00m\n\u001b[0;32m    150\u001b[0m     \u001b[38;5;66;03m# object instance as first arguments in args\u001b[39;00m\n\u001b[0;32m    151\u001b[0m     logger\u001b[38;5;241m.\u001b[39mdebug(\u001b[38;5;124mf\u001b[39m\u001b[38;5;124m\"\u001b[39m\u001b[38;5;124mcalling \u001b[39m\u001b[38;5;132;01m{\u001b[39;00mfunc\u001b[38;5;241m.\u001b[39m\u001b[38;5;18m__name__\u001b[39m\u001b[38;5;132;01m}\u001b[39;00m\u001b[38;5;124m on \u001b[39m\u001b[38;5;132;01m{\u001b[39;00mclassname\u001b[38;5;132;01m}\u001b[39;00m\u001b[38;5;124m\"\u001b[39m)\n\u001b[1;32m--> 152\u001b[0m     res \u001b[38;5;241m=\u001b[39m func(\u001b[38;5;241m*\u001b[39margs, \u001b[38;5;241m*\u001b[39m\u001b[38;5;241m*\u001b[39mkwargs)\n\u001b[0;32m    153\u001b[0m     logger\u001b[38;5;241m.\u001b[39mdebug(\u001b[38;5;124mf\u001b[39m\u001b[38;5;124m\"\u001b[39m\u001b[38;5;124mcompleted calling \u001b[39m\u001b[38;5;132;01m{\u001b[39;00mfunc\u001b[38;5;241m.\u001b[39m\u001b[38;5;18m__name__\u001b[39m\u001b[38;5;132;01m}\u001b[39;00m\u001b[38;5;124m on \u001b[39m\u001b[38;5;132;01m{\u001b[39;00mclassname\u001b[38;5;132;01m}\u001b[39;00m\u001b[38;5;124m\"\u001b[39m)\n\u001b[0;32m    154\u001b[0m     \u001b[38;5;28;01mreturn\u001b[39;00m res\n",
      "File \u001b[1;32m~\\AppData\\Roaming\\Python\\Python311\\site-packages\\ema_workbench\\em_framework\\model.py:392\u001b[0m, in \u001b[0;36mBaseModel.run_experiment\u001b[1;34m(self, experiment)\u001b[0m\n\u001b[0;32m    383\u001b[0m \u001b[38;5;129m@method_logger\u001b[39m(\u001b[38;5;18m__name__\u001b[39m)\n\u001b[0;32m    384\u001b[0m \u001b[38;5;28;01mdef\u001b[39;00m \u001b[38;5;21mrun_experiment\u001b[39m(\u001b[38;5;28mself\u001b[39m, experiment):\n\u001b[0;32m    385\u001b[0m \u001b[38;5;250m    \u001b[39m\u001b[38;5;124;03m\"\"\"Method for running an instantiated model structure.\u001b[39;00m\n\u001b[0;32m    386\u001b[0m \n\u001b[0;32m    387\u001b[0m \u001b[38;5;124;03m    Parameters\u001b[39;00m\n\u001b[1;32m   (...)\u001b[0m\n\u001b[0;32m    390\u001b[0m \n\u001b[0;32m    391\u001b[0m \u001b[38;5;124;03m    \"\"\"\u001b[39;00m\n\u001b[1;32m--> 392\u001b[0m     model_output \u001b[38;5;241m=\u001b[39m \u001b[38;5;28mself\u001b[39m\u001b[38;5;241m.\u001b[39mfunction(\u001b[38;5;241m*\u001b[39m\u001b[38;5;241m*\u001b[39mexperiment)\n\u001b[0;32m    394\u001b[0m     \u001b[38;5;66;03m# TODO: might it be possible to somehow abstract this\u001b[39;00m\n\u001b[0;32m    395\u001b[0m     \u001b[38;5;66;03m# perhaps expose a get_data on modelInterface?\u001b[39;00m\n\u001b[0;32m    396\u001b[0m     \u001b[38;5;66;03m# different connectors can than implement only this\u001b[39;00m\n\u001b[0;32m    397\u001b[0m     \u001b[38;5;66;03m# get method\u001b[39;00m\n\u001b[0;32m    398\u001b[0m     results \u001b[38;5;241m=\u001b[39m {}\n",
      "File \u001b[1;32m~\\Desktop\\FutureUrbanCoastlines\\GITHUB\\ExMAM\\exploratory_marsh_accretion_model\\marsh_accretion_model\\x_marsh.py:44\u001b[0m, in \u001b[0;36mx_marsh_function\u001b[1;34m(slr_select, z_init, c_flood, fd, rho_deposit, s_subsidence, nourishment_frequency, c_flood_nourishment, rcp, site, loader, **kwargs)\u001b[0m\n\u001b[0;32m     40\u001b[0m     tides_per_year\u001b[38;5;241m.\u001b[39mloc[year_tides\u001b[38;5;241m.\u001b[39mindex, \u001b[38;5;124m'\u001b[39m\u001b[38;5;124mslr\u001b[39m\u001b[38;5;124m'\u001b[39m] \u001b[38;5;241m=\u001b[39m slr_value\n\u001b[0;32m     42\u001b[0m \u001b[38;5;66;03m# Calculate marsh elevation change\u001b[39;00m\n\u001b[0;32m     43\u001b[0m \u001b[38;5;66;03m#acc = marsh_elevation_model_1(z_init, c_flood, c_flood_nourishment, fd, rho_deposit, s_subsidence, nourishment_frequency, rcp, site, loader=None)\u001b[39;00m\n\u001b[1;32m---> 44\u001b[0m acc \u001b[38;5;241m=\u001b[39m marsh_elevation_model(z_init\u001b[38;5;241m=\u001b[39mz_init, c_flood\u001b[38;5;241m=\u001b[39mc_flood, c_flood_nourishment\u001b[38;5;241m=\u001b[39mc_flood_nourishment, fd\u001b[38;5;241m=\u001b[39mfd,\n\u001b[0;32m     45\u001b[0m rho_deposit\u001b[38;5;241m=\u001b[39mrho_deposit, s_subsidence\u001b[38;5;241m=\u001b[39ms_subsidence, nourishment_frequency\u001b[38;5;241m=\u001b[39mnourishment_frequency, tides_per_year\u001b[38;5;241m=\u001b[39mtides_per_year)\n\u001b[0;32m     46\u001b[0m acc_df \u001b[38;5;241m=\u001b[39m pd\u001b[38;5;241m.\u001b[39mDataFrame({\u001b[38;5;124m'\u001b[39m\u001b[38;5;124myear\u001b[39m\u001b[38;5;124m'\u001b[39m: acc[\u001b[38;5;241m1\u001b[39m], \u001b[38;5;124m'\u001b[39m\u001b[38;5;124melevation\u001b[39m\u001b[38;5;124m'\u001b[39m: acc[\u001b[38;5;241m0\u001b[39m], \u001b[38;5;124m'\u001b[39m\u001b[38;5;124mdz_dt\u001b[39m\u001b[38;5;124m'\u001b[39m: acc[\u001b[38;5;241m2\u001b[39m]})\u001b[38;5;241m.\u001b[39msort_values(\u001b[38;5;124m'\u001b[39m\u001b[38;5;124myear\u001b[39m\u001b[38;5;124m'\u001b[39m)\n\u001b[0;32m     47\u001b[0m accretion_df \u001b[38;5;241m=\u001b[39m acc_df\u001b[38;5;241m.\u001b[39mmerge(slr_data, on\u001b[38;5;241m=\u001b[39m\u001b[38;5;124m'\u001b[39m\u001b[38;5;124myear\u001b[39m\u001b[38;5;124m'\u001b[39m)\u001b[38;5;241m.\u001b[39mrename(columns\u001b[38;5;241m=\u001b[39m{\u001b[38;5;124m'\u001b[39m\u001b[38;5;124mslr\u001b[39m\u001b[38;5;124m'\u001b[39m: \u001b[38;5;124m'\u001b[39m\u001b[38;5;124mdslr_dt\u001b[39m\u001b[38;5;124m'\u001b[39m})\n",
      "File \u001b[1;32m~\\Desktop\\FutureUrbanCoastlines\\GITHUB\\ExMAM\\exploratory_marsh_accretion_model\\marsh_accretion_model\\marsh_accretion_model.py:48\u001b[0m, in \u001b[0;36mmarsh_elevation_model\u001b[1;34m(z_init, c_flood, c_flood_nourishment, fd, rho_deposit, s_subsidence, nourishment_frequency, tides_per_year, **kwargs)\u001b[0m\n\u001b[0;32m     45\u001b[0m nourishment_years \u001b[38;5;241m=\u001b[39m \u001b[38;5;28mset\u001b[39m(\u001b[38;5;28mrange\u001b[39m(start_year, start_year \u001b[38;5;241m+\u001b[39m \u001b[38;5;28mlen\u001b[39m(years_list) \u001b[38;5;241m*\u001b[39m nourishment_frequency, nourishment_frequency))\n\u001b[0;32m     47\u001b[0m \u001b[38;5;28;01mfor\u001b[39;00m year \u001b[38;5;129;01min\u001b[39;00m years_list:\n\u001b[1;32m---> 48\u001b[0m     year_data \u001b[38;5;241m=\u001b[39m tides_per_year[tides_per_year[\u001b[38;5;124m'\u001b[39m\u001b[38;5;124myear\u001b[39m\u001b[38;5;124m'\u001b[39m] \u001b[38;5;241m==\u001b[39m year]\n\u001b[0;32m     50\u001b[0m     \u001b[38;5;66;03m# Divide year data by season\u001b[39;00m\n\u001b[0;32m     51\u001b[0m     data_spring \u001b[38;5;241m=\u001b[39m year_data[year_data[\u001b[38;5;124m'\u001b[39m\u001b[38;5;124mseason\u001b[39m\u001b[38;5;124m'\u001b[39m] \u001b[38;5;241m==\u001b[39m \u001b[38;5;124m'\u001b[39m\u001b[38;5;124mspring\u001b[39m\u001b[38;5;124m'\u001b[39m]\n",
      "File \u001b[1;32mC:\\ProgramData\\anaconda3\\Lib\\site-packages\\pandas\\core\\ops\\common.py:81\u001b[0m, in \u001b[0;36m_unpack_zerodim_and_defer.<locals>.new_method\u001b[1;34m(self, other)\u001b[0m\n\u001b[0;32m     77\u001b[0m             \u001b[38;5;28;01mreturn\u001b[39;00m \u001b[38;5;28mNotImplemented\u001b[39m\n\u001b[0;32m     79\u001b[0m other \u001b[38;5;241m=\u001b[39m item_from_zerodim(other)\n\u001b[1;32m---> 81\u001b[0m \u001b[38;5;28;01mreturn\u001b[39;00m method(\u001b[38;5;28mself\u001b[39m, other)\n",
      "File \u001b[1;32mC:\\ProgramData\\anaconda3\\Lib\\site-packages\\pandas\\core\\arraylike.py:40\u001b[0m, in \u001b[0;36mOpsMixin.__eq__\u001b[1;34m(self, other)\u001b[0m\n\u001b[0;32m     38\u001b[0m \u001b[38;5;129m@unpack_zerodim_and_defer\u001b[39m(\u001b[38;5;124m\"\u001b[39m\u001b[38;5;124m__eq__\u001b[39m\u001b[38;5;124m\"\u001b[39m)\n\u001b[0;32m     39\u001b[0m \u001b[38;5;28;01mdef\u001b[39;00m \u001b[38;5;21m__eq__\u001b[39m(\u001b[38;5;28mself\u001b[39m, other):\n\u001b[1;32m---> 40\u001b[0m     \u001b[38;5;28;01mreturn\u001b[39;00m \u001b[38;5;28mself\u001b[39m\u001b[38;5;241m.\u001b[39m_cmp_method(other, operator\u001b[38;5;241m.\u001b[39meq)\n",
      "File \u001b[1;32mC:\\ProgramData\\anaconda3\\Lib\\site-packages\\pandas\\core\\series.py:6096\u001b[0m, in \u001b[0;36mSeries._cmp_method\u001b[1;34m(self, other, op)\u001b[0m\n\u001b[0;32m   6093\u001b[0m rvalues \u001b[38;5;241m=\u001b[39m extract_array(other, extract_numpy\u001b[38;5;241m=\u001b[39m\u001b[38;5;28;01mTrue\u001b[39;00m, extract_range\u001b[38;5;241m=\u001b[39m\u001b[38;5;28;01mTrue\u001b[39;00m)\n\u001b[0;32m   6095\u001b[0m \u001b[38;5;28;01mwith\u001b[39;00m np\u001b[38;5;241m.\u001b[39merrstate(\u001b[38;5;28mall\u001b[39m\u001b[38;5;241m=\u001b[39m\u001b[38;5;124m\"\u001b[39m\u001b[38;5;124mignore\u001b[39m\u001b[38;5;124m\"\u001b[39m):\n\u001b[1;32m-> 6096\u001b[0m     res_values \u001b[38;5;241m=\u001b[39m ops\u001b[38;5;241m.\u001b[39mcomparison_op(lvalues, rvalues, op)\n\u001b[0;32m   6098\u001b[0m \u001b[38;5;28;01mreturn\u001b[39;00m \u001b[38;5;28mself\u001b[39m\u001b[38;5;241m.\u001b[39m_construct_result(res_values, name\u001b[38;5;241m=\u001b[39mres_name)\n",
      "File \u001b[1;32mC:\\ProgramData\\anaconda3\\Lib\\site-packages\\pandas\\core\\ops\\array_ops.py:296\u001b[0m, in \u001b[0;36mcomparison_op\u001b[1;34m(left, right, op)\u001b[0m\n\u001b[0;32m    293\u001b[0m     res_values \u001b[38;5;241m=\u001b[39m comp_method_OBJECT_ARRAY(op, lvalues, rvalues)\n\u001b[0;32m    295\u001b[0m \u001b[38;5;28;01melse\u001b[39;00m:\n\u001b[1;32m--> 296\u001b[0m     res_values \u001b[38;5;241m=\u001b[39m _na_arithmetic_op(lvalues, rvalues, op, is_cmp\u001b[38;5;241m=\u001b[39m\u001b[38;5;28;01mTrue\u001b[39;00m)\n\u001b[0;32m    298\u001b[0m \u001b[38;5;28;01mreturn\u001b[39;00m res_values\n",
      "File \u001b[1;32mC:\\ProgramData\\anaconda3\\Lib\\site-packages\\pandas\\core\\ops\\array_ops.py:171\u001b[0m, in \u001b[0;36m_na_arithmetic_op\u001b[1;34m(left, right, op, is_cmp)\u001b[0m\n\u001b[0;32m    168\u001b[0m     func \u001b[38;5;241m=\u001b[39m partial(expressions\u001b[38;5;241m.\u001b[39mevaluate, op)\n\u001b[0;32m    170\u001b[0m \u001b[38;5;28;01mtry\u001b[39;00m:\n\u001b[1;32m--> 171\u001b[0m     result \u001b[38;5;241m=\u001b[39m func(left, right)\n\u001b[0;32m    172\u001b[0m \u001b[38;5;28;01mexcept\u001b[39;00m \u001b[38;5;167;01mTypeError\u001b[39;00m:\n\u001b[0;32m    173\u001b[0m     \u001b[38;5;28;01mif\u001b[39;00m \u001b[38;5;129;01mnot\u001b[39;00m is_cmp \u001b[38;5;129;01mand\u001b[39;00m (is_object_dtype(left\u001b[38;5;241m.\u001b[39mdtype) \u001b[38;5;129;01mor\u001b[39;00m is_object_dtype(right)):\n\u001b[0;32m    174\u001b[0m         \u001b[38;5;66;03m# For object dtype, fallback to a masked operation (only operating\u001b[39;00m\n\u001b[0;32m    175\u001b[0m         \u001b[38;5;66;03m#  on the non-missing values)\u001b[39;00m\n\u001b[0;32m    176\u001b[0m         \u001b[38;5;66;03m# Don't do this for comparisons, as that will handle complex numbers\u001b[39;00m\n\u001b[0;32m    177\u001b[0m         \u001b[38;5;66;03m#  incorrectly, see GH#32047\u001b[39;00m\n",
      "File \u001b[1;32mC:\\ProgramData\\anaconda3\\Lib\\site-packages\\pandas\\core\\computation\\expressions.py:239\u001b[0m, in \u001b[0;36mevaluate\u001b[1;34m(op, a, b, use_numexpr)\u001b[0m\n\u001b[0;32m    236\u001b[0m \u001b[38;5;28;01mif\u001b[39;00m op_str \u001b[38;5;129;01mis\u001b[39;00m \u001b[38;5;129;01mnot\u001b[39;00m \u001b[38;5;28;01mNone\u001b[39;00m:\n\u001b[0;32m    237\u001b[0m     \u001b[38;5;28;01mif\u001b[39;00m use_numexpr:\n\u001b[0;32m    238\u001b[0m         \u001b[38;5;66;03m# error: \"None\" not callable\u001b[39;00m\n\u001b[1;32m--> 239\u001b[0m         \u001b[38;5;28;01mreturn\u001b[39;00m _evaluate(op, op_str, a, b)  \u001b[38;5;66;03m# type: ignore[misc]\u001b[39;00m\n\u001b[0;32m    240\u001b[0m \u001b[38;5;28;01mreturn\u001b[39;00m _evaluate_standard(op, op_str, a, b)\n",
      "File \u001b[1;32mC:\\ProgramData\\anaconda3\\Lib\\site-packages\\pandas\\core\\computation\\expressions.py:128\u001b[0m, in \u001b[0;36m_evaluate_numexpr\u001b[1;34m(op, op_str, a, b)\u001b[0m\n\u001b[0;32m    125\u001b[0m     _store_test_result(result \u001b[38;5;129;01mis\u001b[39;00m \u001b[38;5;129;01mnot\u001b[39;00m \u001b[38;5;28;01mNone\u001b[39;00m)\n\u001b[0;32m    127\u001b[0m \u001b[38;5;28;01mif\u001b[39;00m result \u001b[38;5;129;01mis\u001b[39;00m \u001b[38;5;28;01mNone\u001b[39;00m:\n\u001b[1;32m--> 128\u001b[0m     result \u001b[38;5;241m=\u001b[39m _evaluate_standard(op, op_str, a, b)\n\u001b[0;32m    130\u001b[0m \u001b[38;5;28;01mreturn\u001b[39;00m result\n",
      "File \u001b[1;32mC:\\ProgramData\\anaconda3\\Lib\\site-packages\\pandas\\core\\computation\\expressions.py:70\u001b[0m, in \u001b[0;36m_evaluate_standard\u001b[1;34m(op, op_str, a, b)\u001b[0m\n\u001b[0;32m     68\u001b[0m \u001b[38;5;28;01mif\u001b[39;00m _TEST_MODE:\n\u001b[0;32m     69\u001b[0m     _store_test_result(\u001b[38;5;28;01mFalse\u001b[39;00m)\n\u001b[1;32m---> 70\u001b[0m \u001b[38;5;28;01mreturn\u001b[39;00m op(a, b)\n",
      "\u001b[1;31mKeyboardInterrupt\u001b[0m: "
     ]
    }
   ],
   "source": [
    "# Define your uncertainties, including RCP and site as categorical\n",
    "uncertainties = [\n",
    "    CategoricalParameter('rcp', ['rcp26', 'rcp45', 'rcp85']),\n",
    "    CategoricalParameter('site', ['S15', 'S33']),\n",
    "    CategoricalParameter('slr_select', [1, 2, 3]),\n",
    "    CategoricalParameter('z_init', [0.4, 0.7, 1.2, 1.7]),\n",
    "    CategoricalParameter('s_subsidence', [0.0027, 0.005]),\n",
    "    CategoricalParameter('rho_deposit', [400, 800, 1200]),\n",
    "    CategoricalParameter('c_flood', [0.05, 0.1, 0.2]),\n",
    "    CategoricalParameter('fd', [0.2, 0.4, 0.6, 0.8]),\n",
    "    CategoricalParameter('nourishment_frequency', [1, 5, 10]),\n",
    "    CategoricalParameter('c_flood_nourishment', [0, 0.3, 0.5]),\n",
    "]\n",
    "\n",
    "# Define your outcomes\n",
    "outcomes = [\n",
    "    ScalarOutcome('crit_year'),\n",
    "    ScalarOutcome('growth_total'),\n",
    "    ScalarOutcome('slope_norm_10'),\n",
    "    ScalarOutcome('est_time'),\n",
    "    ScalarOutcome('est_crit_year')\n",
    "]\n",
    "\n",
    "# Create the model object with your wrapper as the function\n",
    "model = Model('marshaccretion', function=x_marsh_function)\n",
    "model.uncertainties = uncertainties\n",
    "model.outcomes = outcomes\n",
    "\n",
    "# Run experiments with sampled scenarios\n",
    "with MultiprocessingEvaluator(model, n_processes=-1) as evaluator:\n",
    "    experiments, outcomes = perform_experiments(model,  scenarios=7776*6, uncertainty_sampling=FullFactorialSampler())\n"
   ]
  },
  {
   "cell_type": "code",
   "execution_count": null,
   "id": "0bfdd548",
   "metadata": {},
   "outputs": [],
   "source": [
    "results=experiments,outcomes\n",
    "save_results(results, '..\\..\\model_output_M\\model_output_S33_raw/S33_rcp26_full_factorial.tar.gz')"
   ]
  },
  {
   "cell_type": "code",
   "execution_count": null,
   "id": "9bd66151",
   "metadata": {},
   "outputs": [],
   "source": []
  },
  {
   "cell_type": "code",
   "execution_count": null,
   "id": "a3e78a56",
   "metadata": {},
   "outputs": [],
   "source": []
  }
 ],
 "metadata": {
  "kernelspec": {
   "display_name": "Python 3 (ipykernel)",
   "language": "python",
   "name": "python3"
  },
  "language_info": {
   "codemirror_mode": {
    "name": "ipython",
    "version": 3
   },
   "file_extension": ".py",
   "mimetype": "text/x-python",
   "name": "python",
   "nbconvert_exporter": "python",
   "pygments_lexer": "ipython3",
   "version": "3.11.5"
  }
 },
 "nbformat": 4,
 "nbformat_minor": 5
}
